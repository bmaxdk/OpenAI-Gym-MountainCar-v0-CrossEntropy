{
 "cells": [
  {
   "cell_type": "markdown",
   "id": "5f786d31",
   "metadata": {},
   "source": [
    "# MountainCar-v0-Cross-Entropy Method\n",
    "Implement of a corss-entropy method in policy-based methods\n",
    "\n",
    "### Import Necessary Packages"
   ]
  },
  {
   "cell_type": "code",
   "execution_count": 1,
   "id": "4c2a0c47",
   "metadata": {},
   "outputs": [
    {
     "name": "stdout",
     "output_type": "stream",
     "text": [
      "Requirement already satisfied: pyvirtualdisplay in /home/eight/anaconda3/envs/torchunity/lib/python3.6/site-packages (3.0)\r\n"
     ]
    }
   ],
   "source": [
    "import gym\n",
    "import math\n",
    "import numpy as np\n",
    "from collections import deque\n",
    "import matplotlib.pyplot as plt\n",
    "%matplotlib inline\n",
    "\n",
    "import torch\n",
    "import torch.nn as nn\n",
    "import torch.nn.functional as F\n",
    "from torch.autograd import Variable\n",
    "\n",
    "!python -m pip install pyvirtualdisplay\n",
    "from pyvirtualdisplay import Display\n",
    "display = Display(visible=0, size=(1400,900))\n",
    "display.start()\n",
    "\n",
    "is_ipython = 'inline' in plt.get_backend()\n",
    "if is_ipython:\n",
    "    from IPython import display\n",
    "\n",
    "plt.ion()"
   ]
  },
  {
   "cell_type": "markdown",
   "id": "ea41e1ee",
   "metadata": {},
   "source": [
    "### Specify the Environment, and Explore the State and Action spaces\n"
   ]
  },
  {
   "cell_type": "code",
   "execution_count": 2,
   "id": "cecb298d",
   "metadata": {},
   "outputs": [],
   "source": [
    "# Create an environment and set random seed\n",
    "env = gym.make('MountainCarContinuous-v0')\n",
    "env.seed(101)\n",
    "np.random.seed(101)\n",
    "\n"
   ]
  },
  {
   "cell_type": "code",
   "execution_count": 3,
   "id": "911fb143",
   "metadata": {},
   "outputs": [
    {
     "name": "stdout",
     "output_type": "stream",
     "text": [
      "observation space:  Box([-1.2  -0.07], [0.6  0.07], (2,), float32)\n",
      " -low:  [-1.2  -0.07]\n",
      " -high:  [0.6  0.07]\n",
      "action space:  Box([-1.], [1.], (1,), float32)\n",
      " -low:  [-1.]\n",
      " -high:  [1.]\n"
     ]
    }
   ],
   "source": [
    "# Explore state (observation) space\n",
    "# state: [position, speed]\n",
    "print('observation space: ', env.observation_space)\n",
    "print(' -low: ', env.observation_space.low)\n",
    "print(' -high: ', env.observation_space.high)\n",
    "\n",
    "# Explore the action space\n",
    "# action [action]\n",
    "print('action space: ', env.action_space)\n",
    "print(' -low: ', env.action_space.low)\n",
    "print(' -high: ', env.action_space.high)"
   ]
  },
  {
   "cell_type": "markdown",
   "id": "fbc360a1",
   "metadata": {},
   "source": [
    "### Watch a random agent"
   ]
  },
  {
   "cell_type": "code",
   "execution_count": 4,
   "id": "4960b603",
   "metadata": {},
   "outputs": [
    {
     "name": "stdout",
     "output_type": "stream",
     "text": [
      "Score:  999\n"
     ]
    },
    {
     "data": {
      "image/png": "[encoded data removed]",
      "text/plain": [
       "<Figure size 432x288 with 1 Axes>"
      ]
     },
     "metadata": {
      "needs_background": "light"
     },
     "output_type": "display_data"
    }
   ],
   "source": [
    "state = env.reset()\n",
    "img = plt.imshow(env.render(mode='rgb_array'))\n",
    "for t in range(1000):\n",
    "    action = env.action_space.sample()\n",
    "    img.set_data(env.render(mode='rgb_array'))\n",
    "    plt.axis('off')\n",
    "    display.display(plt.gcf())\n",
    "    display.clear_output(wait=True)\n",
    "    state, reward, done, _ = env.step(action)\n",
    "    if done:\n",
    "        print('Score: ', t+1)\n",
    "        break\n",
    "\n",
    "env.close()"
   ]
  },
  {
   "cell_type": "markdown",
   "id": "c8be83d6",
   "metadata": {},
   "source": [
    "## Train an agent to perfrom better.\n",
    "\n",
    "Explore the state and action spaces, as well as sample them."
   ]
  },
  {
   "cell_type": "code",
   "execution_count": 5,
   "id": "49f9ce64",
   "metadata": {},
   "outputs": [
    {
     "name": "stdout",
     "output_type": "stream",
     "text": [
      "Observation space:  Box([-1.2  -0.07], [0.6  0.07], (2,), float32)\n",
      "state shape:  (2,)\n",
      " -low:  [-1.2  -0.07]\n",
      " -high:  [0.6  0.07]\n",
      "State space samples:\n",
      "[[-0.30670425  0.06603958]\n",
      " [-0.15175831 -0.03713643]\n",
      " [-0.5649248  -0.02363089]\n",
      " [ 0.5595818  -0.04409696]\n",
      " [-0.5084649   0.05890182]\n",
      " [ 0.30128193  0.06887893]\n",
      " [ 0.27741018  0.00126783]\n",
      " [-0.13336651 -0.0424035 ]\n",
      " [-0.51184523  0.0341886 ]\n",
      " [ 0.05956766  0.0532283 ]]\n",
      "\n",
      "\n",
      "\n",
      "Action space:  Box([-1.], [1.], (1,), float32)\n",
      "action shape:  (1,)\n",
      " -low:  [-1.]\n",
      " -high:  [1.]\n",
      "Action space samples:\n",
      "[[-0.3601283 ]\n",
      " [ 0.79807544]\n",
      " [ 0.09698661]\n",
      " [ 0.28053644]\n",
      " [-0.51310056]\n",
      " [ 0.2777974 ]\n",
      " [ 0.00765343]\n",
      " [ 0.09583376]\n",
      " [ 0.9308967 ]\n",
      " [ 0.7934322 ]]\n"
     ]
    }
   ],
   "source": [
    "# Explore state (observation) space\n",
    "# state: [position, speed]\n",
    "print('Observation space: ', env.observation_space)\n",
    "print('state shape: ', env.observation_space.shape)\n",
    "print(' -low: ', env.observation_space.low)\n",
    "print(' -high: ', env.observation_space.high)\n",
    "# Generate some samples from the state space \n",
    "print(\"State space samples:\")\n",
    "print(np.array([env.observation_space.sample() for i in range(10)]))\n",
    "\n",
    "print(\"\\n\\n\")\n",
    "\n",
    "# Explore the action space\n",
    "# action [action]\n",
    "print('Action space: ', env.action_space)\n",
    "print('action shape: ', env.action_space.shape)\n",
    "print(' -low: ', env.action_space.low)\n",
    "print(' -high: ', env.action_space.high)\n",
    "# Generate some samples from the action space\n",
    "print(\"Action space samples:\")\n",
    "print(np.array([env.action_space.sample() for i in range(10)]))\n"
   ]
  },
  {
   "cell_type": "markdown",
   "id": "cae5223e",
   "metadata": {},
   "source": [
    "# Instantiate the Agent\n",
    "\n",
    "View this tensor as the same size as other. self.view_as(other) is equivalent to self.view(other.size()).\n"
   ]
  },
  {
   "cell_type": "code",
   "execution_count": 6,
   "id": "c0214987",
   "metadata": {},
   "outputs": [],
   "source": [
    "class Agent(nn.Module):\n",
    "    def __init__(self, env, h_size=16):\n",
    "        super(Agent, self).__init__()\n",
    "        self.env = env\n",
    "        # state, hidden_layer, action sizes\n",
    "        self.s_size = env.observation_space.shape[0]    # state_size\n",
    "        self.h_size = h_size\n",
    "        self.a_size = env.action_space.shape[0]         # action_size\n",
    "        \n",
    "        # Define layer\n",
    "        self.fc1 = nn.Linear(self.s_size, self.h_size)\n",
    "        self.fc2 = nn.Linear(self.h_size, self.a_size)\n",
    "        \n",
    "    def set_weights(self, weights):\n",
    "        s_size = self.s_size\n",
    "        h_size = self.h_size\n",
    "        a_size = self.a_size\n",
    "        \n",
    "        \n",
    "        # Separate the weights for each layer---\n",
    "        # Writing to a tensor created from a read-only NumPy array\n",
    "        # fc1: weight and bias resize\n",
    "        fc1_end = (s_size * h_size) + h_size\n",
    "        fc1_W = torch.from_numpy(weights[:s_size*h_size].reshape(s_size, h_size))\n",
    "        fc1_b = torch.from_numpy(weights[s_size*h_size:fc1_end])\n",
    "        \n",
    "        # fc2: weight and bias resize\n",
    "        fc2_W = torch.from_numpy(weights[fc1_end:fc1_end+(h_size*a_size)].reshape(h_size, a_size))\n",
    "        fc2_b = torch.from_numpy(weights[fc1_end+(h_size*a_size):])\n",
    "        \n",
    "        # set the weights for each layer\n",
    "        self.fc1.weight.data.copy_(fc1_W.view_as(self.fc1.weight.data))\n",
    "        self.fc1.bias.data.copy_(fc1_b.view_as(self.fc1.bias.data))\n",
    "        self.fc2.weight.data.copy_(fc2_W.view_as(self.fc2.weight.data))\n",
    "        self.fc2.bias.data.copy_(fc2_b.view_as(self.fc2.bias.data))\n",
    "        # ---\n",
    "        \n",
    "\n",
    "    def get_weights_dim(self):\n",
    "        return (self.s_size + 1) * self.h_size + (self.h_size + 1) * self.a_size\n",
    "\n",
    "    def forward(self, x):\n",
    "        x = F.relu(self.fc1(x))\n",
    "        x = F.tanh(self.fc2(x))                   # [-1, 1] use tanh\n",
    "        return x.cpu().data\n",
    "\n",
    "    def evaluate(self, weights, gamma=1.0, max_t=5000):\n",
    "        self.set_weights(weights)\n",
    "        episode_return = 0.0\n",
    "        state = self.env.reset()\n",
    "        for t in range(max_t):\n",
    "            state = torch.from_numpy(state).float().to(device)\n",
    "            action = self.forward(state)          # action from state\n",
    "            state, reward, done, _ = self.env.step(action)\n",
    "            episode_return += reward * math.pow(gamma, t)\n",
    "            if done:\n",
    "                break\n",
    "        return episode_return\n",
    "        "
   ]
  },
  {
   "cell_type": "code",
   "execution_count": 7,
   "id": "ba6bcc56",
   "metadata": {},
   "outputs": [],
   "source": [
    "# Set torch device\n",
    "device = torch.device(\"cuda:0\" if torch.cuda.is_available() else \"cpu\")\n",
    "\n",
    "agent = Agent(env).to(device)"
   ]
  },
  {
   "cell_type": "markdown",
   "id": "57d893f2",
   "metadata": {},
   "source": [
    "# Train the Agent with Cross-Entropy Method\n"
   ]
  },
  {
   "cell_type": "code",
   "execution_count": 8,
   "id": "14a5cf20",
   "metadata": {},
   "outputs": [
    {
     "name": "stderr",
     "output_type": "stream",
     "text": [
      "/home/eight/anaconda3/envs/torchunity/lib/python3.6/site-packages/torch/nn/functional.py:1628: UserWarning: nn.functional.tanh is deprecated. Use torch.tanh instead.\n",
      "  warnings.warn(\"nn.functional.tanh is deprecated. Use torch.tanh instead.\")\n"
     ]
    },
    {
     "name": "stdout",
     "output_type": "stream",
     "text": [
      "Episode 10\tAverage Score: -1.68\n",
      "Episode 20\tAverage Score: -1.84\n",
      "Episode 30\tAverage Score: -1.66\n",
      "Episode 40\tAverage Score: -1.57\n",
      "Episode 50\tAverage Score: -1.37\n",
      "Episode 60\tAverage Score: -1.21\n",
      "Episode 70\tAverage Score: -1.15\n",
      "Episode 80\tAverage Score: -1.03\n",
      "Episode 90\tAverage Score: -0.99\n",
      "Episode 100\tAverage Score: -0.93\n",
      "Episode 110\tAverage Score: 7.60\n",
      "Episode 120\tAverage Score: 17.15\n",
      "Episode 130\tAverage Score: 26.71\n",
      "Episode 140\tAverage Score: 36.30\n",
      "Episode 150\tAverage Score: 45.86\n",
      "Episode 160\tAverage Score: 55.28\n",
      "Episode 170\tAverage Score: 64.70\n",
      "Episode 180\tAverage Score: 74.10\n",
      "Episode 190\tAverage Score: 83.57\n",
      "\n",
      "Environment solved in 97 iterations!\tAverage Score: 90.14\n"
     ]
    },
    {
     "data": {
      "image/png": "[encoded data removed]",
      "text/plain": [
       "<Figure size 432x288 with 1 Axes>"
      ]
     },
     "metadata": {
      "needs_background": "light"
     },
     "output_type": "display_data"
    }
   ],
   "source": [
    "def crossEntropyMethod(n_iterations=500, max_t=1000, gamma=1.0, print_every=10, pop_size=50, elite_frac=0.2, sigma=0.5):\n",
    "    \"\"\"\n",
    "    Implement cross-entropy method\n",
    "    \n",
    "    Params\n",
    "    ======\n",
    "        n_iterations (int): maximum number of training iterations\n",
    "        max_t (int): maximum nuber of timesteps per episode\n",
    "        gamma (float): discount rate\n",
    "        print_every (int): how often to print average score (over last 100 episodes)\n",
    "        pop_size (int): size of population at each iteration\n",
    "        elite_frac (float): percentage of top performers to use in update\n",
    "        sigma (float): standard deviation of additive noise\n",
    "    \"\"\"\n",
    "    \n",
    "    n_elite = int(pop_size * elite_frac)\n",
    "    \n",
    "    scores_deque = deque(maxlen=100)\n",
    "    scores = []\n",
    "    best_weight = sigma * np.random.randn(agent.get_weights_dim())      # initialize parameters\n",
    "    \n",
    "    for i_iteration in range(1, n_iterations+1):\n",
    "        weights_pop = [best_weight + (sigma * np.random.randn(agent.get_weights_dim())) for i in range(pop_size)]\n",
    "        rewards = np.array([agent.evaluate(weights, gamma, max_t) for weights in weights_pop])\n",
    "        \n",
    "        elite_idxs = rewards.argsort()[-n_elite:]\n",
    "        elite_weights = [weights_pop[i] for i in elite_idxs]\n",
    "        best_weight = np.array(elite_weights).mean(axis=0)\n",
    "        \n",
    "        reward = agent.evaluate(best_weight, gamma=1.0)\n",
    "        scores_deque.append(reward)\n",
    "        scores.append(reward)\n",
    "        \n",
    "        \n",
    "        # Checkpint\n",
    "        torch.save(agent.state_dict(), 'checkpoint.pth')\n",
    "        \n",
    "        # Monitor\n",
    "        if i_iteration % print_every == 0:\n",
    "            print('Episode {}\\tAverage Score: {:.2f}'.format(i_iteration, np.mean(scores_deque)))\n",
    "\n",
    "        if np.mean(scores_deque)>=90.0:\n",
    "            print('\\nEnvironment solved in {:d} iterations!\\tAverage Score: {:.2f}'.format(i_iteration-100, np.mean(scores_deque)))\n",
    "            break\n",
    "    return scores\n",
    "\n",
    "scores = crossEntropyMethod()\n",
    "\n",
    "# plot the scores\n",
    "fig = plt.figure()\n",
    "ax = fig.add_subplot(111)\n",
    "plt.plot(np.arange(1, len(scores)+1), scores)\n",
    "plt.ylabel('Score')\n",
    "plt.xlabel('Episode #')\n",
    "plt.show()"
   ]
  },
  {
   "cell_type": "markdown",
   "id": "4b19a210",
   "metadata": {},
   "source": [
    "# Simulate Trained Agent\n"
   ]
  },
  {
   "cell_type": "code",
   "execution_count": 61,
   "id": "de99254f",
   "metadata": {},
   "outputs": [
    {
     "data": {
      "image/png": "[encoded data removed]",
      "text/plain": [
       "<Figure size 432x288 with 1 Axes>"
      ]
     },
     "metadata": {
      "needs_background": "light"
     },
     "output_type": "display_data"
    }
   ],
   "source": [
    "# load the weights from file\n",
    "agent.load_state_dict(torch.load('checkpoint.pth'))\n",
    "\n",
    "state = env.reset()\n",
    "img = plt.imshow(env.render(mode='rgb_array'))\n",
    "while True:\n",
    "    state = torch.from_numpy(state).float().to(device)\n",
    "    with torch.no_grad():\n",
    "        action = agent(state)\n",
    "#     action = env.action_space.sample()\n",
    "    img.set_data(env.render(mode='rgb_array'))\n",
    "    plt.axis('off')\n",
    "    display.display(plt.gcf())\n",
    "    display.clear_output(wait=True)\n",
    "    next_state, reward, done, _ = env.step(action)\n",
    "    state = next_state\n",
    "    if done:\n",
    "#         print('Score: ', t+1)\n",
    "        break\n",
    "\n",
    "env.close()"
   ]
  },
  {
   "cell_type": "markdown",
   "id": "78e9b6e4",
   "metadata": {},
   "source": []
  },
  {
   "cell_type": "code",
   "execution_count": null,
   "id": "473c43b2",
   "metadata": {},
   "outputs": [],
   "source": []
  }
 ],
 "metadata": {
  "kernelspec": {
   "display_name": "Python 3",
   "language": "python",
   "name": "python3"
  },
  "language_info": {
   "codemirror_mode": {
    "name": "ipython",
    "version": 3
   },
   "file_extension": ".py",
   "mimetype": "text/x-python",
   "name": "python",
   "nbconvert_exporter": "python",
   "pygments_lexer": "ipython3",
   "version": "3.6.13"
  }
 },
 "nbformat": 4,
 "nbformat_minor": 5
}
